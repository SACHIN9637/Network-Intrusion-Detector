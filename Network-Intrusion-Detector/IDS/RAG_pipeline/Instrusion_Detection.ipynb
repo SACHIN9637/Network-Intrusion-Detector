{
 "cells": [
  {
   "cell_type": "code",
   "execution_count": 1,
   "metadata": {
    "colab": {
     "base_uri": "https://localhost:8080/"
    },
    "id": "aJ2GCw3SSIBg",
    "outputId": "c9bbbf2b-aa39-4d8c-eb1d-eb9d56c74b94"
   },
   "outputs": [
    {
     "name": "stdout",
     "output_type": "stream",
     "text": [
      "Accuracy: 0.8074617979757889\n"
     ]
    }
   ],
   "source": [
    "import pandas as pd\n",
    "from sklearn.model_selection import train_test_split\n",
    "from sklearn.neighbors import KNeighborsClassifier\n",
    "from sklearn.metrics import accuracy_score\n",
    "\n",
    "# Load the dataset\n",
    "data = pd.read_csv('multi_data.csv')\n",
    "\n",
    "# Assuming the last column is the target variable\n",
    "X = data.iloc[:, :-1]\n",
    "y = data.iloc[:, -1]\n",
    "\n",
    "# Split the data into training and testing sets\n",
    "X_train, X_test, y_train, y_test = train_test_split(X, y, test_size=0.2, random_state=42)\n",
    "\n",
    "# Create a KNN classifier\n",
    "knn = KNeighborsClassifier(n_neighbors=5)  # You can adjust the number of neighbors\n",
    "\n",
    "# Train the classifier\n",
    "knn.fit(X_train, y_train)\n",
    "\n",
    "# Make predictions on the test set\n",
    "y_pred = knn.predict(X_test)\n",
    "\n",
    "# Evaluate the accuracy of the classifier\n",
    "accuracy = accuracy_score(y_test, y_pred)\n",
    "print(\"Accuracy:\", accuracy)"
   ]
  },
  {
   "cell_type": "code",
   "execution_count": 5,
   "metadata": {
    "colab": {
     "base_uri": "https://localhost:8080/"
    },
    "id": "xUcqJZyAT3Io",
    "outputId": "a2519c81-085b-429d-d931-38162444bf64"
   },
   "outputs": [
    {
     "name": "stdout",
     "output_type": "stream",
     "text": [
      "LDA-Classifier Set-Accuracy is  93.14149632863663\n"
     ]
    }
   ],
   "source": [
    "from sklearn.discriminant_analysis import LinearDiscriminantAnalysis\n",
    "lda = LinearDiscriminantAnalysis()\n",
    "lda.fit(X_train, y_train)\n",
    "y_pred = lda.predict(X_test) # predicting target attribute on testing dataset\n",
    "ac=accuracy_score(y_test, y_pred)*100 # calculating accuracy of predicted data\n",
    "print(\"LDA-Classifier Set-Accuracy is \", ac)"
   ]
  },
  {
   "cell_type": "code",
   "execution_count": 7,
   "metadata": {
    "colab": {
     "base_uri": "https://localhost:8080/"
    },
    "id": "yncZxTI0VkrG",
    "outputId": "25613c79-9d31-4eee-9e68-2308336ad674"
   },
   "outputs": [
    {
     "name": "stdout",
     "output_type": "stream",
     "text": [
      "   Unnamed: 0     count  srv_serror_rate  serror_rate  dst_host_serror_rate  \\\n",
      "0           0 -0.717045        -0.631929    -0.637209             -0.639532   \n",
      "1           1 -0.620982        -0.631929    -0.637209             -0.639532   \n",
      "2           2  0.339648         1.605104     1.602664              1.608759   \n",
      "3           3 -0.690846        -0.184522    -0.189235             -0.572083   \n",
      "4           4 -0.472521        -0.631929    -0.637209             -0.639532   \n",
      "\n",
      "   dst_host_same_srv_rate  dst_host_srv_serror_rate  dst_host_srv_count  \\\n",
      "0               -0.782367                 -0.624871           -0.818890   \n",
      "1               -1.161030                 -0.624871           -1.035688   \n",
      "2               -0.938287                  1.618955           -0.809857   \n",
      "3                1.066401                 -0.602433            1.258754   \n",
      "4                1.066401                 -0.624871            1.258754   \n",
      "\n",
      "   protocol_type_tcp  service_Z39_50  ...  flag_S2  flag_S3  flag_SF  \\\n",
      "0                  1               0  ...        0        0        1   \n",
      "1                  0               0  ...        0        0        1   \n",
      "2                  1               0  ...        0        0        0   \n",
      "3                  1               0  ...        0        0        1   \n",
      "4                  1               0  ...        0        0        1   \n",
      "\n",
      "   intrusion  Dos  Probe  R2L  U2R  normal   label  \n",
      "0          4    0      0    0    0       1  normal  \n",
      "1          4    0      0    0    0       1  normal  \n",
      "2          0    1      0    0    0       0     Dos  \n",
      "3          4    0      0    0    0       1  normal  \n",
      "4          4    0      0    0    0       1  normal  \n",
      "\n",
      "[5 rows x 74 columns]\n"
     ]
    }
   ],
   "source": [
    "df = pd.read_csv('multi_data.csv')\n",
    "columns_to_drop = [\n",
    "    'logged_in',\n",
    "    'same_srv_rate',\n",
    "    'protocol_type_icmp',\n",
    "    'protocol_type_udp',\n",
    "    'service_IRC', 'service_X11', 'service_aol', 'service_pm_dump',\n",
    "    'service_courier', 'service_csnet_ns', 'service_ctf', 'service_daytime',\n",
    "    'service_discard', 'service_hostnames', 'service_printer', 'service_red_i',\n",
    "    'service_shell', 'service_supdup', 'service_uucp', 'service_uucp_path',\n",
    "    'service_vmnet', 'service_whois', 'service_remote_job', 'service_rje',\n",
    "    'flag_OTH', 'flag_SH', 'flag_RSTOS0'\n",
    "]\n",
    "\n",
    "# Drop the columns\n",
    "df_cleaned = df.drop(columns=columns_to_drop)\n",
    "\n",
    "# Save or view the cleaned dataframe\n",
    "df_cleaned.to_csv('cleaned_dataset.csv', index=False)\n",
    "print(df_cleaned.head())"
   ]
  },
  {
   "cell_type": "code",
   "execution_count": 11,
   "metadata": {
    "colab": {
     "base_uri": "https://localhost:8080/"
    },
    "id": "Ew7EUav-YP2z",
    "outputId": "7fa0557e-cb34-45bf-af8f-97bc43c5014b"
   },
   "outputs": [
    {
     "data": {
      "text/plain": [
       "array(['normal', 'Dos', 'R2L', 'Probe', 'U2R'], dtype=object)"
      ]
     },
     "execution_count": 11,
     "metadata": {},
     "output_type": "execute_result"
    }
   ],
   "source": [
    "df['label'].unique()"
   ]
  },
  {
   "cell_type": "code",
   "execution_count": 13,
   "metadata": {
    "colab": {
     "base_uri": "https://localhost:8080/"
    },
    "id": "AG1KFqwtYVgm",
    "outputId": "e0a2f402-e949-4edb-8b33-f855673d5f92"
   },
   "outputs": [
    {
     "data": {
      "text/plain": [
       "(125973, 74)"
      ]
     },
     "execution_count": 13,
     "metadata": {},
     "output_type": "execute_result"
    }
   ],
   "source": [
    "df_cleaned.shape"
   ]
  },
  {
   "cell_type": "code",
   "execution_count": 14,
   "metadata": {
    "colab": {
     "base_uri": "https://localhost:8080/"
    },
    "id": "xj2sLPwvY7AJ",
    "outputId": "97a65497-512d-4ab2-d9db-acd3a5683d4d"
   },
   "outputs": [
    {
     "name": "stdout",
     "output_type": "stream",
     "text": [
      "LDA Accuracy: 0.9313355824568367\n"
     ]
    }
   ],
   "source": [
    "import pandas as pd\n",
    "from sklearn.model_selection import train_test_split\n",
    "from sklearn.discriminant_analysis import LinearDiscriminantAnalysis\n",
    "from sklearn.metrics import accuracy_score\n",
    "\n",
    "# Assuming df_cleaned is defined and contains your data\n",
    "X = df_cleaned.drop('label', axis=1)  # Features\n",
    "y = df_cleaned['label']  # Target variable\n",
    "\n",
    "# Split the data into training and testing sets\n",
    "X_train, X_test, y_train, y_test = train_test_split(X, y, test_size=0.2, random_state=42)\n",
    "\n",
    "# Create an LDA model\n",
    "lda = LinearDiscriminantAnalysis()\n",
    "\n",
    "# Train the model\n",
    "lda.fit(X_train, y_train)\n",
    "\n",
    "# Make predictions on the test set\n",
    "y_pred = lda.predict(X_test)\n",
    "\n",
    "# Evaluate the accuracy\n",
    "accuracy = accuracy_score(y_test, y_pred)\n",
    "print(\"LDA Accuracy:\", accuracy)"
   ]
  },
  {
   "cell_type": "code",
   "execution_count": 15,
   "metadata": {
    "colab": {
     "base_uri": "https://localhost:8080/"
    },
    "id": "-O-8lHqPZLL5",
    "outputId": "3096577a-ac11-4041-cdd9-e3a87f6679a0"
   },
   "outputs": [
    {
     "name": "stdout",
     "output_type": "stream",
     "text": [
      "              precision    recall  f1-score   support\n",
      "\n",
      "         Dos       0.94      0.96      0.95      9181\n",
      "       Probe       0.85      0.74      0.79      2357\n",
      "         R2L       0.36      0.88      0.51       224\n",
      "         U2R       0.02      0.36      0.04        11\n",
      "      normal       0.97      0.95      0.96     13422\n",
      "\n",
      "    accuracy                           0.93     25195\n",
      "   macro avg       0.63      0.78      0.65     25195\n",
      "weighted avg       0.94      0.93      0.94     25195\n",
      "\n"
     ]
    }
   ],
   "source": [
    "from sklearn.metrics import classification_report\n",
    "\n",
    "report = classification_report(y_test, y_pred)\n",
    "print(report)"
   ]
  },
  {
   "cell_type": "code",
   "execution_count": 16,
   "metadata": {
    "id": "_juFL0XDZPdP"
   },
   "outputs": [],
   "source": [
    "# prompt: export this above model\n",
    "\n",
    "import pickle\n",
    "\n",
    "# Assuming your trained LDA model is named 'lda'\n",
    "# Export the model to a file named 'lda_model.pkl'\n",
    "\n",
    "with open('lda_model.pkl', 'wb') as file:\n",
    "    pickle.dump(lda, file)"
   ]
  },
  {
   "cell_type": "code",
   "execution_count": null,
   "metadata": {
    "id": "8d1VD2TrZfmX"
   },
   "outputs": [],
   "source": []
  }
 ],
 "metadata": {
  "accelerator": "GPU",
  "colab": {
   "gpuType": "T4",
   "provenance": []
  },
  "kernelspec": {
   "display_name": ".venv",
   "language": "python",
   "name": "python3"
  },
  "language_info": {
   "name": "python",
   "version": "3.12.5"
  }
 },
 "nbformat": 4,
 "nbformat_minor": 0
}
